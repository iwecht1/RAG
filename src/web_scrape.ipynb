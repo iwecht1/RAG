{
 "cells": [
  {
   "cell_type": "code",
   "execution_count": 1,
   "metadata": {},
   "outputs": [],
   "source": [
    "# import Google search for website crawling\n",
    "from serpapi import GoogleSearch"
   ]
  },
  {
   "cell_type": "code",
   "execution_count": 13,
   "metadata": {},
   "outputs": [],
   "source": [
    "# key for serp\n",
    "api_key = \"cbf0c6499b15a327d7785fe952fe9f5e3a21c90187dd31fdc2e7bb772be010cb\"\n",
    "\n",
    "# function to get the urls of a given query \n",
    "def get_corpus_urls(query):\n",
    "  # params for google search of web \n",
    "  params = {\n",
    "    \"engine\": \"google\",\n",
    "    \"q\": query, \n",
    "    \"api_key\": api_key,\n",
    "    \"num\": 10\n",
    "  }\n",
    "\n",
    "  # get results based on parameters \n",
    "  search = GoogleSearch(params)\n",
    "  results = search.get_dict()\n",
    "\n",
    "  # all results from query search \n",
    "  url_results = results[\"organic_results\"]\n",
    "\n",
    "  urls = [] # list to save urls \n",
    "\n",
    "  # run through google results and grab page urls\n",
    "  for result in url_results:\n",
    "      urls.append(result['link'])\n",
    "  \n",
    "  # return query urls\n",
    "  return urls"
   ]
  },
  {
   "cell_type": "code",
   "execution_count": 20,
   "metadata": {},
   "outputs": [],
   "source": [
    "all_urls = [] # list to save urls from all searches \n",
    "\n",
    "# queries to grab pages for \n",
    "queries = ['text analytics', 'deep learning transformer','question answering systems',\n",
    "           'natural language processing','retrieval augmented generation', 'langchain','llama index']\n",
    "\n",
    "# loop through queries and get pages for each \n",
    "for query in queries:\n",
    "    query_urls = get_corpus_urls(query) # get query urls \n",
    "\n",
    "    # add urls to all list \n",
    "    all_urls.append(query_urls)"
   ]
  },
  {
   "cell_type": "code",
   "execution_count": 21,
   "metadata": {},
   "outputs": [
    {
     "data": {
      "text/plain": [
       "[['https://www.ibm.com/topics/natural-language-processing',\n",
       "  'https://en.wikipedia.org/wiki/Natural_language_processing',\n",
       "  'https://hbr.org/2022/04/the-power-of-natural-language-processing',\n",
       "  'https://www.techtarget.com/searchenterpriseai/definition/natural-language-processing-NLP',\n",
       "  'https://www.coursera.org/articles/natural-language-processing',\n",
       "  'https://www.deeplearning.ai/resources/natural-language-processing/',\n",
       "  'https://cloud.google.com/learn/what-is-natural-language-processing',\n",
       "  'https://www.reddit.com/r/LanguageTechnology/',\n",
       "  'https://www.sas.com/en_us/insights/analytics/what-is-natural-language-processing-nlp.html'],\n",
       " ['https://blogs.nvidia.com/blog/what-is-retrieval-augmented-generation/',\n",
       "  'https://research.ibm.com/blog/retrieval-augmented-generation-RAG',\n",
       "  'https://www.promptingguide.ai/techniques/rag',\n",
       "  'https://aws.amazon.com/what-is/retrieval-augmented-generation/',\n",
       "  'https://arxiv.org/abs/2312.10997',\n",
       "  'https://docs.aws.amazon.com/sagemaker/latest/dg/jumpstart-foundation-models-customize-rag.html',\n",
       "  'https://www.oracle.com/artificial-intelligence/generative-ai/retrieval-augmented-generation-rag/',\n",
       "  'https://stackoverflow.blog/2023/10/18/retrieval-augmented-generation-keeping-llms-relevant-and-current/',\n",
       "  'https://arxiv.org/abs/2005.11401',\n",
       "  'https://www.smashingmagazine.com/2024/01/guide-retrieval-augmented-generation-language-models/'],\n",
       " ['https://www.langchain.com/',\n",
       "  'https://github.com/langchain-ai/langchain',\n",
       "  'https://en.wikipedia.org/wiki/LangChain',\n",
       "  'https://www.ibm.com/topics/langchain',\n",
       "  'https://aws.amazon.com/what-is/langchain/'],\n",
       " ['https://www.llamaindex.ai/',\n",
       "  'https://github.com/run-llama/llama_index',\n",
       "  'https://huggingface.co/llamaindex',\n",
       "  'https://nanonets.com/blog/llamaindex/',\n",
       "  'https://www.datastax.com/guides/what-is-llamaindex',\n",
       "  'https://towardsdatascience.com/llamaindex-the-ultimate-llm-framework-for-indexing-and-retrieval-fa588d8ca03e']]"
      ]
     },
     "execution_count": 21,
     "metadata": {},
     "output_type": "execute_result"
    }
   ],
   "source": [
    "all_urls"
   ]
  },
  {
   "cell_type": "code",
   "execution_count": 23,
   "metadata": {},
   "outputs": [],
   "source": [
    "# save urls to txt file \n",
    "for q_list in all_urls:\n",
    "    for url in q_list:\n",
    "        # Open the file in write mode\n",
    "        with open('../html_data/urls.txt', 'a') as file:\n",
    "            # Write the string to the file\n",
    "            file.write(url + '\\n')"
   ]
  }
 ],
 "metadata": {
  "kernelspec": {
   "display_name": "1450",
   "language": "python",
   "name": "python3"
  },
  "language_info": {
   "codemirror_mode": {
    "name": "ipython",
    "version": 3
   },
   "file_extension": ".py",
   "mimetype": "text/x-python",
   "name": "python",
   "nbconvert_exporter": "python",
   "pygments_lexer": "ipython3",
   "version": "3.8.8"
  }
 },
 "nbformat": 4,
 "nbformat_minor": 2
}
