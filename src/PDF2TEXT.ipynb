{
 "cells": [
  {
   "cell_type": "code",
   "execution_count": 2,
   "id": "aecc2512",
   "metadata": {},
   "outputs": [
    {
     "name": "stdout",
     "output_type": "stream",
     "text": [
      "Requirement already satisfied: pymupdf in /Users/dylan/opt/anaconda3/lib/python3.9/site-packages (1.20.2)\r\n"
     ]
    }
   ],
   "source": [
    "# !pip install pymupdf"
   ]
  },
  {
   "cell_type": "code",
   "execution_count": 3,
   "id": "52771789",
   "metadata": {},
   "outputs": [],
   "source": [
    "import os\n",
    "import fitz\n",
    "\n",
    "def pdf_to_text(pdf_file, text_file):\n",
    "    pdf_document = fitz.open(pdf_file)\n",
    "\n",
    "    with open(text_file, 'w') as text_output:\n",
    "        for page_num in range(len(pdf_document)):\n",
    "            page = pdf_document.load_page(page_num)\n",
    "            text = page.get_text()\n",
    "            text_output.write(text)\n",
    "    pdf_document.close()\n",
    "\n",
    "pdf_folder = \"../corpus/pdf\" \n",
    "text_folder = \"../corpus/text\"\n",
    "\n",
    "if not os.path.exists(text_folder):\n",
    "    os.makedirs(text_folder)\n",
    "\n",
    "for filename in os.listdir(pdf_folder):\n",
    "    if filename.endswith('.pdf'):\n",
    "        pdf_file = os.path.join(pdf_folder, filename)\n",
    "        text_file = os.path.join(text_folder, os.path.splitext(filename)[0] + \".txt\") \n",
    "        \n",
    "        pdf_to_text(pdf_file, text_file)"
   ]
  },
  {
   "cell_type": "code",
   "execution_count": null,
   "id": "fb71c049",
   "metadata": {},
   "outputs": [],
   "source": []
  }
 ],
 "metadata": {
  "kernelspec": {
   "display_name": "Python 3 (ipykernel)",
   "language": "python",
   "name": "python3"
  },
  "language_info": {
   "codemirror_mode": {
    "name": "ipython",
    "version": 3
   },
   "file_extension": ".py",
   "mimetype": "text/x-python",
   "name": "python",
   "nbconvert_exporter": "python",
   "pygments_lexer": "ipython3",
   "version": "3.9.12"
  }
 },
 "nbformat": 4,
 "nbformat_minor": 5
}
